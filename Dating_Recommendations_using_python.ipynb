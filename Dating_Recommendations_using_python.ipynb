{
  "nbformat": 4,
  "nbformat_minor": 0,
  "metadata": {
    "colab": {
      "provenance": [],
      "authorship_tag": "ABX9TyOQkK9uS+lulfjRfv1Nw9A8",
      "include_colab_link": true
    },
    "kernelspec": {
      "name": "python3",
      "display_name": "Python 3"
    },
    "language_info": {
      "name": "python"
    }
  },
  "cells": [
    {
      "cell_type": "markdown",
      "metadata": {
        "id": "view-in-github",
        "colab_type": "text"
      },
      "source": [
        "<a href=\"https://colab.research.google.com/github/GajendraIITB/Projects-/blob/Codes/Dating_Recommendations_using_python.ipynb\" target=\"_parent\"><img src=\"https://colab.research.google.com/assets/colab-badge.svg\" alt=\"Open In Colab\"/></a>"
      ]
    },
    {
      "cell_type": "code",
      "execution_count": 1,
      "metadata": {
        "colab": {
          "base_uri": "https://localhost:8080/"
        },
        "id": "J9FfIrCO0OiI",
        "outputId": "a05f5f99-3a28-4c1b-9bee-bbc051fcf686"
      },
      "outputs": [
        {
          "output_type": "stream",
          "name": "stdout",
          "text": [
            "Mounted at /content/gdrive\n"
          ]
        }
      ],
      "source": [
        "from google.colab import drive\n",
        "drive.mount('/content/gdrive')"
      ]
    },
    {
      "cell_type": "markdown",
      "source": [
        "Let’s get started with the task of dating recommendations by importing the necessary Python libraries and the dataset:"
      ],
      "metadata": {
        "id": "voHDIgoL0hIz"
      }
    },
    {
      "cell_type": "code",
      "source": [
        "import pandas as pd\n",
        "import plotly.express as px\n",
        "\n",
        "data = pd.read_csv(\"/content/gdrive/My Drive/dating_app_dataset.csv\")\n",
        "print(data.head())"
      ],
      "metadata": {
        "colab": {
          "base_uri": "https://localhost:8080/"
        },
        "id": "pSvyRhIh1mSr",
        "outputId": "ebf3838b-2e84-445c-d34b-0d3e2103bbc3"
      },
      "execution_count": 3,
      "outputs": [
        {
          "output_type": "stream",
          "name": "stdout",
          "text": [
            "   User ID  Age  Gender    Height  \\\n",
            "0        1   30    Male  5.240385   \n",
            "1        2   27  Female  4.937625   \n",
            "2        3   29  Female  5.806296   \n",
            "3        4   29  Female  5.101402   \n",
            "4        5   32    Male  5.986670   \n",
            "\n",
            "                                           Interests             Looking For  \\\n",
            "0  ['Sports', 'Cooking', 'Hiking', 'Music', 'Movi...           Casual Dating   \n",
            "1                              ['Sports', 'Reading']              Friendship   \n",
            "2                                         ['Sports']           Casual Dating   \n",
            "3                                        ['Reading']                Marriage   \n",
            "4  ['Sports', 'Hiking', 'Music', 'Movies', 'Readi...  Long-term Relationship   \n",
            "\n",
            "  Children    Education Level               Occupation  Swiping History  \\\n",
            "0       No        High School                  Student               96   \n",
            "1      Yes    Master's Degree                   Artist               96   \n",
            "2       No  Bachelor's Degree  Social Media Influencer               64   \n",
            "3       No              Ph.D.                   Doctor               67   \n",
            "4      Yes              Ph.D.                 Engineer               93   \n",
            "\n",
            "  Frequency of Usage  \n",
            "0             Weekly  \n",
            "1            Monthly  \n",
            "2              Daily  \n",
            "3              Daily  \n",
            "4            Monthly  \n"
          ]
        }
      ]
    },
    {
      "cell_type": "markdown",
      "source": [
        "Now, let’s explore this data before creating a dating recommendation system. I’ll start with exploring the age distribution in the data by gender:"
      ],
      "metadata": {
        "id": "JAyuogp31toJ"
      }
    },
    {
      "cell_type": "code",
      "source": [
        "# age distribution by gender\n",
        "fig = px.histogram(data, x=\"Age\", color=\"Gender\", nbins=20,\n",
        "                   title=\"Age Distribution by Gender\")\n",
        "fig.update_layout(xaxis_title=\"Age\", yaxis_title=\"Count\")\n",
        "fig.show()"
      ],
      "metadata": {
        "colab": {
          "base_uri": "https://localhost:8080/",
          "height": 542
        },
        "id": "w2NA4Nuf1t4E",
        "outputId": "60a57c68-d4e2-4634-b59e-241972d0645a"
      },
      "execution_count": 4,
      "outputs": [
        {
          "output_type": "display_data",
          "data": {
            "text/html": [
              "<html>\n",
              "<head><meta charset=\"utf-8\" /></head>\n",
              "<body>\n",
              "    <div>            <script src=\"https://cdnjs.cloudflare.com/ajax/libs/mathjax/2.7.5/MathJax.js?config=TeX-AMS-MML_SVG\"></script><script type=\"text/javascript\">if (window.MathJax && window.MathJax.Hub && window.MathJax.Hub.Config) {window.MathJax.Hub.Config({SVG: {font: \"STIX-Web\"}});}</script>                <script type=\"text/javascript\">window.PlotlyConfig = {MathJaxConfig: 'local'};</script>\n",
              "        <script charset=\"utf-8\" src=\"https://cdn.plot.ly/plotly-2.24.1.min.js\"></script>                <div id=\"96cb4c54-bab1-4f64-a285-ad774ee6f6c3\" class=\"plotly-graph-div\" style=\"height:525px; width:100%;\"></div>            <script type=\"text/javascript\">                                    window.PLOTLYENV=window.PLOTLYENV || {};                                    if (document.getElementById(\"96cb4c54-bab1-4f64-a285-ad774ee6f6c3\")) {                    Plotly.newPlot(                        \"96cb4c54-bab1-4f64-a285-ad774ee6f6c3\",                        [{\"alignmentgroup\":\"True\",\"bingroup\":\"x\",\"hovertemplate\":\"Gender=Male\\u003cbr\\u003eAge=%{x}\\u003cbr\\u003ecount=%{y}\\u003cextra\\u003e\\u003c\\u002fextra\\u003e\",\"legendgroup\":\"Male\",\"marker\":{\"color\":\"#636efa\",\"pattern\":{\"shape\":\"\"}},\"name\":\"Male\",\"nbinsx\":20,\"offsetgroup\":\"Male\",\"orientation\":\"v\",\"showlegend\":true,\"x\":[30,32,21,20,27,29,31,31,22,32,32,30,21,25,19,24,19,35,34,23,30,30,33,35,18,27,35,34,21,33,30,27,31,28,35,23,31,34,23,25,25,24,23,22,31,32,29,21,35,32,31,27,29,24,19,25,25,32,24,26,29,24,32,32,29,26,35,20,32,33,32,24,34,18,25,34,25,21,27,32,30,23,24,22,21,32,31,25,35,30,29,34,26,29,31,31,26,33,29,34,24,28,32,20,32,34,24,33,31,23,20,35,34,28,31,19,31,35,31,27,21,34,21,25,26,29,28,23,33,22,24,21,24,21,29,26,22,22,24,29,20,29,30,21,35,31,19,34,28,27,34,28,23,24,21,26,32,20,21,26,20,30,21,31,26,33,33,19,18,25,19,30,25,34,23,33,19,35,18,25,35,18,33,21,25,26,23,22,34,28,18,33,23,34,19,31,24,18,28,34,30,29,21,33,28,35,29,18,25,18,31,18,30,30,32,23,21,25,27,23,25,27,32,31,35,35,27,33,23,29,29,19,24,34,19,21,34,21,33,29,28,25,35,33,34,18,34,27,33,32,24],\"xaxis\":\"x\",\"yaxis\":\"y\",\"type\":\"histogram\"},{\"alignmentgroup\":\"True\",\"bingroup\":\"x\",\"hovertemplate\":\"Gender=Female\\u003cbr\\u003eAge=%{x}\\u003cbr\\u003ecount=%{y}\\u003cextra\\u003e\\u003c\\u002fextra\\u003e\",\"legendgroup\":\"Female\",\"marker\":{\"color\":\"#EF553B\",\"pattern\":{\"shape\":\"\"}},\"name\":\"Female\",\"nbinsx\":20,\"offsetgroup\":\"Female\",\"orientation\":\"v\",\"showlegend\":true,\"x\":[27,29,29,25,27,33,26,27,20,33,25,30,24,27,31,24,29,20,19,18,20,26,24,24,31,20,33,26,28,18,28,33,34,30,25,29,32,34,31,22,25,32,25,20,18,25,25,24,34,24,33,21,21,22,22,22,19,30,28,23,22,22,26,22,30,26,25,34,33,25,22,28,27,32,21,25,31,19,33,33,21,29,20,27,28,20,18,18,22,25,26,26,28,30,23,32,27,21,24,30,23,31,28,23,34,34,22,35,19,25,26,22,29,23,25,31,35,33,23,27,20,24,27,21,27,23,23,23,34,25,27,22,32,32,19,34,19,33,18,24,26,24,34,29,22,21,33,34,20,29,30,28,26,35,24,33,32,27,24,19,20,25,31,32,18,19,28,32,34,34,28,31,18,26,29,27,33,19,23,25,32,26,31,35,29,32,26,34,35,23,20,32,31,34,32,30,23,27,33,32,24,29,30,33,27,33,20,20,22,18,27,32,24,20,35,30,27,24,24,35,33,19,18,18,28,23,20,23,33,29,35,26,35,29,20,29,28,18,29,19,35,20,28,32,24,30,32,33,30],\"xaxis\":\"x\",\"yaxis\":\"y\",\"type\":\"histogram\"}],                        {\"template\":{\"data\":{\"histogram2dcontour\":[{\"type\":\"histogram2dcontour\",\"colorbar\":{\"outlinewidth\":0,\"ticks\":\"\"},\"colorscale\":[[0.0,\"#0d0887\"],[0.1111111111111111,\"#46039f\"],[0.2222222222222222,\"#7201a8\"],[0.3333333333333333,\"#9c179e\"],[0.4444444444444444,\"#bd3786\"],[0.5555555555555556,\"#d8576b\"],[0.6666666666666666,\"#ed7953\"],[0.7777777777777778,\"#fb9f3a\"],[0.8888888888888888,\"#fdca26\"],[1.0,\"#f0f921\"]]}],\"choropleth\":[{\"type\":\"choropleth\",\"colorbar\":{\"outlinewidth\":0,\"ticks\":\"\"}}],\"histogram2d\":[{\"type\":\"histogram2d\",\"colorbar\":{\"outlinewidth\":0,\"ticks\":\"\"},\"colorscale\":[[0.0,\"#0d0887\"],[0.1111111111111111,\"#46039f\"],[0.2222222222222222,\"#7201a8\"],[0.3333333333333333,\"#9c179e\"],[0.4444444444444444,\"#bd3786\"],[0.5555555555555556,\"#d8576b\"],[0.6666666666666666,\"#ed7953\"],[0.7777777777777778,\"#fb9f3a\"],[0.8888888888888888,\"#fdca26\"],[1.0,\"#f0f921\"]]}],\"heatmap\":[{\"type\":\"heatmap\",\"colorbar\":{\"outlinewidth\":0,\"ticks\":\"\"},\"colorscale\":[[0.0,\"#0d0887\"],[0.1111111111111111,\"#46039f\"],[0.2222222222222222,\"#7201a8\"],[0.3333333333333333,\"#9c179e\"],[0.4444444444444444,\"#bd3786\"],[0.5555555555555556,\"#d8576b\"],[0.6666666666666666,\"#ed7953\"],[0.7777777777777778,\"#fb9f3a\"],[0.8888888888888888,\"#fdca26\"],[1.0,\"#f0f921\"]]}],\"heatmapgl\":[{\"type\":\"heatmapgl\",\"colorbar\":{\"outlinewidth\":0,\"ticks\":\"\"},\"colorscale\":[[0.0,\"#0d0887\"],[0.1111111111111111,\"#46039f\"],[0.2222222222222222,\"#7201a8\"],[0.3333333333333333,\"#9c179e\"],[0.4444444444444444,\"#bd3786\"],[0.5555555555555556,\"#d8576b\"],[0.6666666666666666,\"#ed7953\"],[0.7777777777777778,\"#fb9f3a\"],[0.8888888888888888,\"#fdca26\"],[1.0,\"#f0f921\"]]}],\"contourcarpet\":[{\"type\":\"contourcarpet\",\"colorbar\":{\"outlinewidth\":0,\"ticks\":\"\"}}],\"contour\":[{\"type\":\"contour\",\"colorbar\":{\"outlinewidth\":0,\"ticks\":\"\"},\"colorscale\":[[0.0,\"#0d0887\"],[0.1111111111111111,\"#46039f\"],[0.2222222222222222,\"#7201a8\"],[0.3333333333333333,\"#9c179e\"],[0.4444444444444444,\"#bd3786\"],[0.5555555555555556,\"#d8576b\"],[0.6666666666666666,\"#ed7953\"],[0.7777777777777778,\"#fb9f3a\"],[0.8888888888888888,\"#fdca26\"],[1.0,\"#f0f921\"]]}],\"surface\":[{\"type\":\"surface\",\"colorbar\":{\"outlinewidth\":0,\"ticks\":\"\"},\"colorscale\":[[0.0,\"#0d0887\"],[0.1111111111111111,\"#46039f\"],[0.2222222222222222,\"#7201a8\"],[0.3333333333333333,\"#9c179e\"],[0.4444444444444444,\"#bd3786\"],[0.5555555555555556,\"#d8576b\"],[0.6666666666666666,\"#ed7953\"],[0.7777777777777778,\"#fb9f3a\"],[0.8888888888888888,\"#fdca26\"],[1.0,\"#f0f921\"]]}],\"mesh3d\":[{\"type\":\"mesh3d\",\"colorbar\":{\"outlinewidth\":0,\"ticks\":\"\"}}],\"scatter\":[{\"fillpattern\":{\"fillmode\":\"overlay\",\"size\":10,\"solidity\":0.2},\"type\":\"scatter\"}],\"parcoords\":[{\"type\":\"parcoords\",\"line\":{\"colorbar\":{\"outlinewidth\":0,\"ticks\":\"\"}}}],\"scatterpolargl\":[{\"type\":\"scatterpolargl\",\"marker\":{\"colorbar\":{\"outlinewidth\":0,\"ticks\":\"\"}}}],\"bar\":[{\"error_x\":{\"color\":\"#2a3f5f\"},\"error_y\":{\"color\":\"#2a3f5f\"},\"marker\":{\"line\":{\"color\":\"#E5ECF6\",\"width\":0.5},\"pattern\":{\"fillmode\":\"overlay\",\"size\":10,\"solidity\":0.2}},\"type\":\"bar\"}],\"scattergeo\":[{\"type\":\"scattergeo\",\"marker\":{\"colorbar\":{\"outlinewidth\":0,\"ticks\":\"\"}}}],\"scatterpolar\":[{\"type\":\"scatterpolar\",\"marker\":{\"colorbar\":{\"outlinewidth\":0,\"ticks\":\"\"}}}],\"histogram\":[{\"marker\":{\"pattern\":{\"fillmode\":\"overlay\",\"size\":10,\"solidity\":0.2}},\"type\":\"histogram\"}],\"scattergl\":[{\"type\":\"scattergl\",\"marker\":{\"colorbar\":{\"outlinewidth\":0,\"ticks\":\"\"}}}],\"scatter3d\":[{\"type\":\"scatter3d\",\"line\":{\"colorbar\":{\"outlinewidth\":0,\"ticks\":\"\"}},\"marker\":{\"colorbar\":{\"outlinewidth\":0,\"ticks\":\"\"}}}],\"scattermapbox\":[{\"type\":\"scattermapbox\",\"marker\":{\"colorbar\":{\"outlinewidth\":0,\"ticks\":\"\"}}}],\"scatterternary\":[{\"type\":\"scatterternary\",\"marker\":{\"colorbar\":{\"outlinewidth\":0,\"ticks\":\"\"}}}],\"scattercarpet\":[{\"type\":\"scattercarpet\",\"marker\":{\"colorbar\":{\"outlinewidth\":0,\"ticks\":\"\"}}}],\"carpet\":[{\"aaxis\":{\"endlinecolor\":\"#2a3f5f\",\"gridcolor\":\"white\",\"linecolor\":\"white\",\"minorgridcolor\":\"white\",\"startlinecolor\":\"#2a3f5f\"},\"baxis\":{\"endlinecolor\":\"#2a3f5f\",\"gridcolor\":\"white\",\"linecolor\":\"white\",\"minorgridcolor\":\"white\",\"startlinecolor\":\"#2a3f5f\"},\"type\":\"carpet\"}],\"table\":[{\"cells\":{\"fill\":{\"color\":\"#EBF0F8\"},\"line\":{\"color\":\"white\"}},\"header\":{\"fill\":{\"color\":\"#C8D4E3\"},\"line\":{\"color\":\"white\"}},\"type\":\"table\"}],\"barpolar\":[{\"marker\":{\"line\":{\"color\":\"#E5ECF6\",\"width\":0.5},\"pattern\":{\"fillmode\":\"overlay\",\"size\":10,\"solidity\":0.2}},\"type\":\"barpolar\"}],\"pie\":[{\"automargin\":true,\"type\":\"pie\"}]},\"layout\":{\"autotypenumbers\":\"strict\",\"colorway\":[\"#636efa\",\"#EF553B\",\"#00cc96\",\"#ab63fa\",\"#FFA15A\",\"#19d3f3\",\"#FF6692\",\"#B6E880\",\"#FF97FF\",\"#FECB52\"],\"font\":{\"color\":\"#2a3f5f\"},\"hovermode\":\"closest\",\"hoverlabel\":{\"align\":\"left\"},\"paper_bgcolor\":\"white\",\"plot_bgcolor\":\"#E5ECF6\",\"polar\":{\"bgcolor\":\"#E5ECF6\",\"angularaxis\":{\"gridcolor\":\"white\",\"linecolor\":\"white\",\"ticks\":\"\"},\"radialaxis\":{\"gridcolor\":\"white\",\"linecolor\":\"white\",\"ticks\":\"\"}},\"ternary\":{\"bgcolor\":\"#E5ECF6\",\"aaxis\":{\"gridcolor\":\"white\",\"linecolor\":\"white\",\"ticks\":\"\"},\"baxis\":{\"gridcolor\":\"white\",\"linecolor\":\"white\",\"ticks\":\"\"},\"caxis\":{\"gridcolor\":\"white\",\"linecolor\":\"white\",\"ticks\":\"\"}},\"coloraxis\":{\"colorbar\":{\"outlinewidth\":0,\"ticks\":\"\"}},\"colorscale\":{\"sequential\":[[0.0,\"#0d0887\"],[0.1111111111111111,\"#46039f\"],[0.2222222222222222,\"#7201a8\"],[0.3333333333333333,\"#9c179e\"],[0.4444444444444444,\"#bd3786\"],[0.5555555555555556,\"#d8576b\"],[0.6666666666666666,\"#ed7953\"],[0.7777777777777778,\"#fb9f3a\"],[0.8888888888888888,\"#fdca26\"],[1.0,\"#f0f921\"]],\"sequentialminus\":[[0.0,\"#0d0887\"],[0.1111111111111111,\"#46039f\"],[0.2222222222222222,\"#7201a8\"],[0.3333333333333333,\"#9c179e\"],[0.4444444444444444,\"#bd3786\"],[0.5555555555555556,\"#d8576b\"],[0.6666666666666666,\"#ed7953\"],[0.7777777777777778,\"#fb9f3a\"],[0.8888888888888888,\"#fdca26\"],[1.0,\"#f0f921\"]],\"diverging\":[[0,\"#8e0152\"],[0.1,\"#c51b7d\"],[0.2,\"#de77ae\"],[0.3,\"#f1b6da\"],[0.4,\"#fde0ef\"],[0.5,\"#f7f7f7\"],[0.6,\"#e6f5d0\"],[0.7,\"#b8e186\"],[0.8,\"#7fbc41\"],[0.9,\"#4d9221\"],[1,\"#276419\"]]},\"xaxis\":{\"gridcolor\":\"white\",\"linecolor\":\"white\",\"ticks\":\"\",\"title\":{\"standoff\":15},\"zerolinecolor\":\"white\",\"automargin\":true,\"zerolinewidth\":2},\"yaxis\":{\"gridcolor\":\"white\",\"linecolor\":\"white\",\"ticks\":\"\",\"title\":{\"standoff\":15},\"zerolinecolor\":\"white\",\"automargin\":true,\"zerolinewidth\":2},\"scene\":{\"xaxis\":{\"backgroundcolor\":\"#E5ECF6\",\"gridcolor\":\"white\",\"linecolor\":\"white\",\"showbackground\":true,\"ticks\":\"\",\"zerolinecolor\":\"white\",\"gridwidth\":2},\"yaxis\":{\"backgroundcolor\":\"#E5ECF6\",\"gridcolor\":\"white\",\"linecolor\":\"white\",\"showbackground\":true,\"ticks\":\"\",\"zerolinecolor\":\"white\",\"gridwidth\":2},\"zaxis\":{\"backgroundcolor\":\"#E5ECF6\",\"gridcolor\":\"white\",\"linecolor\":\"white\",\"showbackground\":true,\"ticks\":\"\",\"zerolinecolor\":\"white\",\"gridwidth\":2}},\"shapedefaults\":{\"line\":{\"color\":\"#2a3f5f\"}},\"annotationdefaults\":{\"arrowcolor\":\"#2a3f5f\",\"arrowhead\":0,\"arrowwidth\":1},\"geo\":{\"bgcolor\":\"white\",\"landcolor\":\"#E5ECF6\",\"subunitcolor\":\"white\",\"showland\":true,\"showlakes\":true,\"lakecolor\":\"white\"},\"title\":{\"x\":0.05},\"mapbox\":{\"style\":\"light\"}}},\"xaxis\":{\"anchor\":\"y\",\"domain\":[0.0,1.0],\"title\":{\"text\":\"Age\"}},\"yaxis\":{\"anchor\":\"x\",\"domain\":[0.0,1.0],\"title\":{\"text\":\"Count\"}},\"legend\":{\"title\":{\"text\":\"Gender\"},\"tracegroupgap\":0},\"title\":{\"text\":\"Age Distribution by Gender\"},\"barmode\":\"relative\"},                        {\"responsive\": true}                    ).then(function(){\n",
              "                            \n",
              "var gd = document.getElementById('96cb4c54-bab1-4f64-a285-ad774ee6f6c3');\n",
              "var x = new MutationObserver(function (mutations, observer) {{\n",
              "        var display = window.getComputedStyle(gd).display;\n",
              "        if (!display || display === 'none') {{\n",
              "            console.log([gd, 'removed!']);\n",
              "            Plotly.purge(gd);\n",
              "            observer.disconnect();\n",
              "        }}\n",
              "}});\n",
              "\n",
              "// Listen for the removal of the full notebook cells\n",
              "var notebookContainer = gd.closest('#notebook-container');\n",
              "if (notebookContainer) {{\n",
              "    x.observe(notebookContainer, {childList: true});\n",
              "}}\n",
              "\n",
              "// Listen for the clearing of the current output cell\n",
              "var outputEl = gd.closest('.output');\n",
              "if (outputEl) {{\n",
              "    x.observe(outputEl, {childList: true});\n",
              "}}\n",
              "\n",
              "                        })                };                            </script>        </div>\n",
              "</body>\n",
              "</html>"
            ]
          },
          "metadata": {}
        }
      ]
    },
    {
      "cell_type": "markdown",
      "source": [
        "Now, let’s have a look at the education level distribution by gender:"
      ],
      "metadata": {
        "id": "NBJ474XR1uE5"
      }
    },
    {
      "cell_type": "code",
      "source": [
        "# education level distribution by gender\n",
        "education_order = [\"High School\", \"Bachelor's Degree\", \"Master's Degree\", \"Ph.D.\"]\n",
        "fig = px.bar(data, x=\"Education Level\", color=\"Gender\",\n",
        "             category_orders={\"Education Level\": education_order},\n",
        "             title=\"Education Level Distribution by Gender\")\n",
        "\n",
        "fig.update_layout(xaxis_title=\"Education Level\", yaxis_title=\"Count\")\n",
        "fig.show()"
      ],
      "metadata": {
        "colab": {
          "base_uri": "https://localhost:8080/",
          "height": 542
        },
        "id": "rQRr5HID1uuG",
        "outputId": "a36c0032-995b-4b24-fe5b-1b7ea9108216"
      },
      "execution_count": 5,
      "outputs": [
        {
          "output_type": "display_data",
          "data": {
            "text/html": [
              "<html>\n",
              "<head><meta charset=\"utf-8\" /></head>\n",
              "<body>\n",
              "    <div>            <script src=\"https://cdnjs.cloudflare.com/ajax/libs/mathjax/2.7.5/MathJax.js?config=TeX-AMS-MML_SVG\"></script><script type=\"text/javascript\">if (window.MathJax && window.MathJax.Hub && window.MathJax.Hub.Config) {window.MathJax.Hub.Config({SVG: {font: \"STIX-Web\"}});}</script>                <script type=\"text/javascript\">window.PlotlyConfig = {MathJaxConfig: 'local'};</script>\n",
              "        <script charset=\"utf-8\" src=\"https://cdn.plot.ly/plotly-2.24.1.min.js\"></script>                <div id=\"7d33670e-dfce-4cd8-b04e-b6ab0ba8c001\" class=\"plotly-graph-div\" style=\"height:525px; width:100%;\"></div>            <script type=\"text/javascript\">                                    window.PLOTLYENV=window.PLOTLYENV || {};                                    if (document.getElementById(\"7d33670e-dfce-4cd8-b04e-b6ab0ba8c001\")) {                    Plotly.newPlot(                        \"7d33670e-dfce-4cd8-b04e-b6ab0ba8c001\",                        [{\"alignmentgroup\":\"True\",\"hovertemplate\":\"Gender=Male\\u003cbr\\u003eEducation Level=%{x}\\u003cbr\\u003ecount=%{y}\\u003cextra\\u003e\\u003c\\u002fextra\\u003e\",\"legendgroup\":\"Male\",\"marker\":{\"color\":\"#636efa\",\"pattern\":{\"shape\":\"\"}},\"name\":\"Male\",\"offsetgroup\":\"Male\",\"orientation\":\"v\",\"showlegend\":true,\"textposition\":\"auto\",\"x\":[\"High School\",\"Ph.D.\",\"Bachelor's Degree\",\"Bachelor's Degree\",\"Bachelor's Degree\",\"Master's Degree\",\"Master's Degree\",\"Bachelor's Degree\",\"Bachelor's Degree\",\"Master's Degree\",\"Bachelor's Degree\",\"Ph.D.\",\"Ph.D.\",\"Ph.D.\",\"Ph.D.\",\"Master's Degree\",\"High School\",\"Bachelor's Degree\",\"Master's Degree\",\"High School\",\"High School\",\"High School\",\"Bachelor's Degree\",\"High School\",\"Ph.D.\",\"Master's Degree\",\"High School\",\"Master's Degree\",\"Ph.D.\",\"Bachelor's Degree\",\"Ph.D.\",\"Master's Degree\",\"Master's Degree\",\"Bachelor's Degree\",\"High School\",\"Master's Degree\",\"Bachelor's Degree\",\"Master's Degree\",\"Ph.D.\",\"Bachelor's Degree\",\"Ph.D.\",\"Master's Degree\",\"High School\",\"Ph.D.\",\"Bachelor's Degree\",\"High School\",\"Master's Degree\",\"Ph.D.\",\"Master's Degree\",\"Master's Degree\",\"High School\",\"Master's Degree\",\"High School\",\"High School\",\"High School\",\"Ph.D.\",\"Ph.D.\",\"Master's Degree\",\"High School\",\"Ph.D.\",\"Bachelor's Degree\",\"Ph.D.\",\"Master's Degree\",\"Ph.D.\",\"Bachelor's Degree\",\"Ph.D.\",\"Master's Degree\",\"Bachelor's Degree\",\"Ph.D.\",\"Bachelor's Degree\",\"Bachelor's Degree\",\"Master's Degree\",\"Bachelor's Degree\",\"Master's Degree\",\"Bachelor's Degree\",\"Master's Degree\",\"Bachelor's Degree\",\"High School\",\"Master's Degree\",\"Master's Degree\",\"High School\",\"Ph.D.\",\"Ph.D.\",\"Bachelor's Degree\",\"Master's Degree\",\"High School\",\"Bachelor's Degree\",\"Ph.D.\",\"Bachelor's Degree\",\"Ph.D.\",\"Ph.D.\",\"Master's Degree\",\"Master's Degree\",\"Ph.D.\",\"High School\",\"Master's Degree\",\"Master's Degree\",\"Bachelor's Degree\",\"Master's Degree\",\"Master's Degree\",\"Master's Degree\",\"Bachelor's Degree\",\"Bachelor's Degree\",\"Ph.D.\",\"High School\",\"Bachelor's Degree\",\"Ph.D.\",\"Ph.D.\",\"Bachelor's Degree\",\"Bachelor's Degree\",\"Bachelor's Degree\",\"High School\",\"Master's Degree\",\"Ph.D.\",\"Bachelor's Degree\",\"High School\",\"Bachelor's Degree\",\"Master's Degree\",\"High School\",\"High School\",\"Bachelor's Degree\",\"Master's Degree\",\"Bachelor's Degree\",\"Bachelor's Degree\",\"Ph.D.\",\"Bachelor's Degree\",\"High School\",\"Master's Degree\",\"Bachelor's Degree\",\"Master's Degree\",\"Bachelor's Degree\",\"Ph.D.\",\"Ph.D.\",\"Master's Degree\",\"Bachelor's Degree\",\"Bachelor's Degree\",\"Ph.D.\",\"Ph.D.\",\"Master's Degree\",\"Bachelor's Degree\",\"Bachelor's Degree\",\"High School\",\"Bachelor's Degree\",\"High School\",\"Ph.D.\",\"Master's Degree\",\"Master's Degree\",\"Bachelor's Degree\",\"Ph.D.\",\"Ph.D.\",\"High School\",\"High School\",\"Bachelor's Degree\",\"Master's Degree\",\"Master's Degree\",\"Master's Degree\",\"Bachelor's Degree\",\"Master's Degree\",\"Master's Degree\",\"Bachelor's Degree\",\"Master's Degree\",\"Bachelor's Degree\",\"Bachelor's Degree\",\"Bachelor's Degree\",\"Master's Degree\",\"High School\",\"Ph.D.\",\"Bachelor's Degree\",\"Ph.D.\",\"High School\",\"Bachelor's Degree\",\"High School\",\"High School\",\"Master's Degree\",\"Ph.D.\",\"High School\",\"Bachelor's Degree\",\"High School\",\"Master's Degree\",\"High School\",\"Bachelor's Degree\",\"Bachelor's Degree\",\"Master's Degree\",\"Ph.D.\",\"High School\",\"Master's Degree\",\"Ph.D.\",\"High School\",\"Bachelor's Degree\",\"High School\",\"Master's Degree\",\"Master's Degree\",\"Master's Degree\",\"Bachelor's Degree\",\"High School\",\"High School\",\"Ph.D.\",\"Master's Degree\",\"Master's Degree\",\"Master's Degree\",\"Bachelor's Degree\",\"High School\",\"Bachelor's Degree\",\"High School\",\"Bachelor's Degree\",\"Ph.D.\",\"Bachelor's Degree\",\"Bachelor's Degree\",\"Master's Degree\",\"High School\",\"Master's Degree\",\"Ph.D.\",\"Bachelor's Degree\",\"High School\",\"Bachelor's Degree\",\"Master's Degree\",\"Bachelor's Degree\",\"High School\",\"Bachelor's Degree\",\"Bachelor's Degree\",\"High School\",\"Ph.D.\",\"High School\",\"Bachelor's Degree\",\"High School\",\"High School\",\"High School\",\"Bachelor's Degree\",\"Ph.D.\",\"Bachelor's Degree\",\"Ph.D.\",\"Master's Degree\",\"Ph.D.\",\"Ph.D.\",\"High School\",\"Bachelor's Degree\",\"Ph.D.\",\"Master's Degree\",\"Master's Degree\",\"Master's Degree\",\"Bachelor's Degree\",\"Ph.D.\",\"High School\",\"Bachelor's Degree\",\"Ph.D.\",\"Master's Degree\",\"Bachelor's Degree\",\"Bachelor's Degree\",\"Bachelor's Degree\",\"High School\",\"Ph.D.\"],\"xaxis\":\"x\",\"y\":[1,1,1,1,1,1,1,1,1,1,1,1,1,1,1,1,1,1,1,1,1,1,1,1,1,1,1,1,1,1,1,1,1,1,1,1,1,1,1,1,1,1,1,1,1,1,1,1,1,1,1,1,1,1,1,1,1,1,1,1,1,1,1,1,1,1,1,1,1,1,1,1,1,1,1,1,1,1,1,1,1,1,1,1,1,1,1,1,1,1,1,1,1,1,1,1,1,1,1,1,1,1,1,1,1,1,1,1,1,1,1,1,1,1,1,1,1,1,1,1,1,1,1,1,1,1,1,1,1,1,1,1,1,1,1,1,1,1,1,1,1,1,1,1,1,1,1,1,1,1,1,1,1,1,1,1,1,1,1,1,1,1,1,1,1,1,1,1,1,1,1,1,1,1,1,1,1,1,1,1,1,1,1,1,1,1,1,1,1,1,1,1,1,1,1,1,1,1,1,1,1,1,1,1,1,1,1,1,1,1,1,1,1,1,1,1,1,1,1,1,1,1,1,1,1,1,1,1,1,1,1,1,1,1,1,1,1,1,1,1,1,1,1,1,1,1,1,1,1,1,1],\"yaxis\":\"y\",\"type\":\"bar\"},{\"alignmentgroup\":\"True\",\"hovertemplate\":\"Gender=Female\\u003cbr\\u003eEducation Level=%{x}\\u003cbr\\u003ecount=%{y}\\u003cextra\\u003e\\u003c\\u002fextra\\u003e\",\"legendgroup\":\"Female\",\"marker\":{\"color\":\"#EF553B\",\"pattern\":{\"shape\":\"\"}},\"name\":\"Female\",\"offsetgroup\":\"Female\",\"orientation\":\"v\",\"showlegend\":true,\"textposition\":\"auto\",\"x\":[\"Master's Degree\",\"Bachelor's Degree\",\"Ph.D.\",\"Master's Degree\",\"Master's Degree\",\"High School\",\"Ph.D.\",\"Master's Degree\",\"Ph.D.\",\"Bachelor's Degree\",\"High School\",\"Bachelor's Degree\",\"Ph.D.\",\"Master's Degree\",\"Bachelor's Degree\",\"Master's Degree\",\"High School\",\"High School\",\"Ph.D.\",\"Ph.D.\",\"Master's Degree\",\"Bachelor's Degree\",\"Ph.D.\",\"Bachelor's Degree\",\"High School\",\"Bachelor's Degree\",\"High School\",\"Bachelor's Degree\",\"High School\",\"Master's Degree\",\"High School\",\"Ph.D.\",\"Ph.D.\",\"High School\",\"Ph.D.\",\"Ph.D.\",\"Bachelor's Degree\",\"Master's Degree\",\"Bachelor's Degree\",\"High School\",\"Bachelor's Degree\",\"Master's Degree\",\"Ph.D.\",\"Ph.D.\",\"Bachelor's Degree\",\"Bachelor's Degree\",\"Ph.D.\",\"High School\",\"Bachelor's Degree\",\"Ph.D.\",\"Bachelor's Degree\",\"Ph.D.\",\"High School\",\"Ph.D.\",\"Master's Degree\",\"High School\",\"Bachelor's Degree\",\"Ph.D.\",\"Bachelor's Degree\",\"Master's Degree\",\"Master's Degree\",\"Bachelor's Degree\",\"Master's Degree\",\"High School\",\"Bachelor's Degree\",\"Ph.D.\",\"Ph.D.\",\"Bachelor's Degree\",\"High School\",\"Master's Degree\",\"Master's Degree\",\"Bachelor's Degree\",\"Ph.D.\",\"Master's Degree\",\"Master's Degree\",\"High School\",\"Ph.D.\",\"Master's Degree\",\"High School\",\"High School\",\"High School\",\"Bachelor's Degree\",\"High School\",\"Bachelor's Degree\",\"Master's Degree\",\"High School\",\"Ph.D.\",\"Master's Degree\",\"Master's Degree\",\"Bachelor's Degree\",\"Master's Degree\",\"High School\",\"High School\",\"High School\",\"High School\",\"High School\",\"Bachelor's Degree\",\"Ph.D.\",\"Bachelor's Degree\",\"Master's Degree\",\"Bachelor's Degree\",\"High School\",\"Bachelor's Degree\",\"Ph.D.\",\"Ph.D.\",\"Master's Degree\",\"Master's Degree\",\"High School\",\"Master's Degree\",\"Bachelor's Degree\",\"High School\",\"Master's Degree\",\"Bachelor's Degree\",\"Ph.D.\",\"Bachelor's Degree\",\"Ph.D.\",\"Ph.D.\",\"High School\",\"Master's Degree\",\"Bachelor's Degree\",\"Master's Degree\",\"Ph.D.\",\"Bachelor's Degree\",\"High School\",\"High School\",\"Bachelor's Degree\",\"High School\",\"Ph.D.\",\"Ph.D.\",\"High School\",\"Ph.D.\",\"Bachelor's Degree\",\"Bachelor's Degree\",\"Bachelor's Degree\",\"Ph.D.\",\"Bachelor's Degree\",\"High School\",\"Bachelor's Degree\",\"Master's Degree\",\"Master's Degree\",\"Bachelor's Degree\",\"Ph.D.\",\"Ph.D.\",\"Ph.D.\",\"Ph.D.\",\"High School\",\"Bachelor's Degree\",\"High School\",\"Master's Degree\",\"High School\",\"High School\",\"Master's Degree\",\"High School\",\"Bachelor's Degree\",\"Master's Degree\",\"High School\",\"Master's Degree\",\"Master's Degree\",\"High School\",\"Ph.D.\",\"Master's Degree\",\"High School\",\"Ph.D.\",\"Bachelor's Degree\",\"Ph.D.\",\"Ph.D.\",\"High School\",\"Bachelor's Degree\",\"Ph.D.\",\"Ph.D.\",\"Master's Degree\",\"Ph.D.\",\"Ph.D.\",\"Ph.D.\",\"High School\",\"Master's Degree\",\"Ph.D.\",\"Bachelor's Degree\",\"Bachelor's Degree\",\"High School\",\"Bachelor's Degree\",\"High School\",\"High School\",\"Ph.D.\",\"Master's Degree\",\"Bachelor's Degree\",\"Ph.D.\",\"Bachelor's Degree\",\"Master's Degree\",\"Bachelor's Degree\",\"Ph.D.\",\"Master's Degree\",\"Master's Degree\",\"Ph.D.\",\"Ph.D.\",\"High School\",\"High School\",\"Bachelor's Degree\",\"Master's Degree\",\"Master's Degree\",\"High School\",\"High School\",\"Bachelor's Degree\",\"Master's Degree\",\"Bachelor's Degree\",\"High School\",\"Bachelor's Degree\",\"High School\",\"Bachelor's Degree\",\"Bachelor's Degree\",\"High School\",\"High School\",\"High School\",\"Bachelor's Degree\",\"High School\",\"Bachelor's Degree\",\"Ph.D.\",\"Master's Degree\",\"Master's Degree\",\"Bachelor's Degree\",\"Bachelor's Degree\",\"Ph.D.\",\"Master's Degree\",\"Bachelor's Degree\",\"High School\",\"Ph.D.\",\"High School\",\"Bachelor's Degree\",\"High School\",\"High School\",\"Master's Degree\",\"Ph.D.\",\"High School\",\"Master's Degree\",\"High School\",\"Bachelor's Degree\",\"High School\",\"Ph.D.\",\"Master's Degree\",\"Master's Degree\",\"Bachelor's Degree\",\"High School\",\"Master's Degree\",\"Ph.D.\",\"Bachelor's Degree\",\"Bachelor's Degree\",\"Master's Degree\",\"High School\",\"High School\"],\"xaxis\":\"x\",\"y\":[1,1,1,1,1,1,1,1,1,1,1,1,1,1,1,1,1,1,1,1,1,1,1,1,1,1,1,1,1,1,1,1,1,1,1,1,1,1,1,1,1,1,1,1,1,1,1,1,1,1,1,1,1,1,1,1,1,1,1,1,1,1,1,1,1,1,1,1,1,1,1,1,1,1,1,1,1,1,1,1,1,1,1,1,1,1,1,1,1,1,1,1,1,1,1,1,1,1,1,1,1,1,1,1,1,1,1,1,1,1,1,1,1,1,1,1,1,1,1,1,1,1,1,1,1,1,1,1,1,1,1,1,1,1,1,1,1,1,1,1,1,1,1,1,1,1,1,1,1,1,1,1,1,1,1,1,1,1,1,1,1,1,1,1,1,1,1,1,1,1,1,1,1,1,1,1,1,1,1,1,1,1,1,1,1,1,1,1,1,1,1,1,1,1,1,1,1,1,1,1,1,1,1,1,1,1,1,1,1,1,1,1,1,1,1,1,1,1,1,1,1,1,1,1,1,1,1,1,1,1,1,1,1,1,1,1,1,1,1,1,1,1,1,1,1,1,1,1,1],\"yaxis\":\"y\",\"type\":\"bar\"}],                        {\"template\":{\"data\":{\"histogram2dcontour\":[{\"type\":\"histogram2dcontour\",\"colorbar\":{\"outlinewidth\":0,\"ticks\":\"\"},\"colorscale\":[[0.0,\"#0d0887\"],[0.1111111111111111,\"#46039f\"],[0.2222222222222222,\"#7201a8\"],[0.3333333333333333,\"#9c179e\"],[0.4444444444444444,\"#bd3786\"],[0.5555555555555556,\"#d8576b\"],[0.6666666666666666,\"#ed7953\"],[0.7777777777777778,\"#fb9f3a\"],[0.8888888888888888,\"#fdca26\"],[1.0,\"#f0f921\"]]}],\"choropleth\":[{\"type\":\"choropleth\",\"colorbar\":{\"outlinewidth\":0,\"ticks\":\"\"}}],\"histogram2d\":[{\"type\":\"histogram2d\",\"colorbar\":{\"outlinewidth\":0,\"ticks\":\"\"},\"colorscale\":[[0.0,\"#0d0887\"],[0.1111111111111111,\"#46039f\"],[0.2222222222222222,\"#7201a8\"],[0.3333333333333333,\"#9c179e\"],[0.4444444444444444,\"#bd3786\"],[0.5555555555555556,\"#d8576b\"],[0.6666666666666666,\"#ed7953\"],[0.7777777777777778,\"#fb9f3a\"],[0.8888888888888888,\"#fdca26\"],[1.0,\"#f0f921\"]]}],\"heatmap\":[{\"type\":\"heatmap\",\"colorbar\":{\"outlinewidth\":0,\"ticks\":\"\"},\"colorscale\":[[0.0,\"#0d0887\"],[0.1111111111111111,\"#46039f\"],[0.2222222222222222,\"#7201a8\"],[0.3333333333333333,\"#9c179e\"],[0.4444444444444444,\"#bd3786\"],[0.5555555555555556,\"#d8576b\"],[0.6666666666666666,\"#ed7953\"],[0.7777777777777778,\"#fb9f3a\"],[0.8888888888888888,\"#fdca26\"],[1.0,\"#f0f921\"]]}],\"heatmapgl\":[{\"type\":\"heatmapgl\",\"colorbar\":{\"outlinewidth\":0,\"ticks\":\"\"},\"colorscale\":[[0.0,\"#0d0887\"],[0.1111111111111111,\"#46039f\"],[0.2222222222222222,\"#7201a8\"],[0.3333333333333333,\"#9c179e\"],[0.4444444444444444,\"#bd3786\"],[0.5555555555555556,\"#d8576b\"],[0.6666666666666666,\"#ed7953\"],[0.7777777777777778,\"#fb9f3a\"],[0.8888888888888888,\"#fdca26\"],[1.0,\"#f0f921\"]]}],\"contourcarpet\":[{\"type\":\"contourcarpet\",\"colorbar\":{\"outlinewidth\":0,\"ticks\":\"\"}}],\"contour\":[{\"type\":\"contour\",\"colorbar\":{\"outlinewidth\":0,\"ticks\":\"\"},\"colorscale\":[[0.0,\"#0d0887\"],[0.1111111111111111,\"#46039f\"],[0.2222222222222222,\"#7201a8\"],[0.3333333333333333,\"#9c179e\"],[0.4444444444444444,\"#bd3786\"],[0.5555555555555556,\"#d8576b\"],[0.6666666666666666,\"#ed7953\"],[0.7777777777777778,\"#fb9f3a\"],[0.8888888888888888,\"#fdca26\"],[1.0,\"#f0f921\"]]}],\"surface\":[{\"type\":\"surface\",\"colorbar\":{\"outlinewidth\":0,\"ticks\":\"\"},\"colorscale\":[[0.0,\"#0d0887\"],[0.1111111111111111,\"#46039f\"],[0.2222222222222222,\"#7201a8\"],[0.3333333333333333,\"#9c179e\"],[0.4444444444444444,\"#bd3786\"],[0.5555555555555556,\"#d8576b\"],[0.6666666666666666,\"#ed7953\"],[0.7777777777777778,\"#fb9f3a\"],[0.8888888888888888,\"#fdca26\"],[1.0,\"#f0f921\"]]}],\"mesh3d\":[{\"type\":\"mesh3d\",\"colorbar\":{\"outlinewidth\":0,\"ticks\":\"\"}}],\"scatter\":[{\"fillpattern\":{\"fillmode\":\"overlay\",\"size\":10,\"solidity\":0.2},\"type\":\"scatter\"}],\"parcoords\":[{\"type\":\"parcoords\",\"line\":{\"colorbar\":{\"outlinewidth\":0,\"ticks\":\"\"}}}],\"scatterpolargl\":[{\"type\":\"scatterpolargl\",\"marker\":{\"colorbar\":{\"outlinewidth\":0,\"ticks\":\"\"}}}],\"bar\":[{\"error_x\":{\"color\":\"#2a3f5f\"},\"error_y\":{\"color\":\"#2a3f5f\"},\"marker\":{\"line\":{\"color\":\"#E5ECF6\",\"width\":0.5},\"pattern\":{\"fillmode\":\"overlay\",\"size\":10,\"solidity\":0.2}},\"type\":\"bar\"}],\"scattergeo\":[{\"type\":\"scattergeo\",\"marker\":{\"colorbar\":{\"outlinewidth\":0,\"ticks\":\"\"}}}],\"scatterpolar\":[{\"type\":\"scatterpolar\",\"marker\":{\"colorbar\":{\"outlinewidth\":0,\"ticks\":\"\"}}}],\"histogram\":[{\"marker\":{\"pattern\":{\"fillmode\":\"overlay\",\"size\":10,\"solidity\":0.2}},\"type\":\"histogram\"}],\"scattergl\":[{\"type\":\"scattergl\",\"marker\":{\"colorbar\":{\"outlinewidth\":0,\"ticks\":\"\"}}}],\"scatter3d\":[{\"type\":\"scatter3d\",\"line\":{\"colorbar\":{\"outlinewidth\":0,\"ticks\":\"\"}},\"marker\":{\"colorbar\":{\"outlinewidth\":0,\"ticks\":\"\"}}}],\"scattermapbox\":[{\"type\":\"scattermapbox\",\"marker\":{\"colorbar\":{\"outlinewidth\":0,\"ticks\":\"\"}}}],\"scatterternary\":[{\"type\":\"scatterternary\",\"marker\":{\"colorbar\":{\"outlinewidth\":0,\"ticks\":\"\"}}}],\"scattercarpet\":[{\"type\":\"scattercarpet\",\"marker\":{\"colorbar\":{\"outlinewidth\":0,\"ticks\":\"\"}}}],\"carpet\":[{\"aaxis\":{\"endlinecolor\":\"#2a3f5f\",\"gridcolor\":\"white\",\"linecolor\":\"white\",\"minorgridcolor\":\"white\",\"startlinecolor\":\"#2a3f5f\"},\"baxis\":{\"endlinecolor\":\"#2a3f5f\",\"gridcolor\":\"white\",\"linecolor\":\"white\",\"minorgridcolor\":\"white\",\"startlinecolor\":\"#2a3f5f\"},\"type\":\"carpet\"}],\"table\":[{\"cells\":{\"fill\":{\"color\":\"#EBF0F8\"},\"line\":{\"color\":\"white\"}},\"header\":{\"fill\":{\"color\":\"#C8D4E3\"},\"line\":{\"color\":\"white\"}},\"type\":\"table\"}],\"barpolar\":[{\"marker\":{\"line\":{\"color\":\"#E5ECF6\",\"width\":0.5},\"pattern\":{\"fillmode\":\"overlay\",\"size\":10,\"solidity\":0.2}},\"type\":\"barpolar\"}],\"pie\":[{\"automargin\":true,\"type\":\"pie\"}]},\"layout\":{\"autotypenumbers\":\"strict\",\"colorway\":[\"#636efa\",\"#EF553B\",\"#00cc96\",\"#ab63fa\",\"#FFA15A\",\"#19d3f3\",\"#FF6692\",\"#B6E880\",\"#FF97FF\",\"#FECB52\"],\"font\":{\"color\":\"#2a3f5f\"},\"hovermode\":\"closest\",\"hoverlabel\":{\"align\":\"left\"},\"paper_bgcolor\":\"white\",\"plot_bgcolor\":\"#E5ECF6\",\"polar\":{\"bgcolor\":\"#E5ECF6\",\"angularaxis\":{\"gridcolor\":\"white\",\"linecolor\":\"white\",\"ticks\":\"\"},\"radialaxis\":{\"gridcolor\":\"white\",\"linecolor\":\"white\",\"ticks\":\"\"}},\"ternary\":{\"bgcolor\":\"#E5ECF6\",\"aaxis\":{\"gridcolor\":\"white\",\"linecolor\":\"white\",\"ticks\":\"\"},\"baxis\":{\"gridcolor\":\"white\",\"linecolor\":\"white\",\"ticks\":\"\"},\"caxis\":{\"gridcolor\":\"white\",\"linecolor\":\"white\",\"ticks\":\"\"}},\"coloraxis\":{\"colorbar\":{\"outlinewidth\":0,\"ticks\":\"\"}},\"colorscale\":{\"sequential\":[[0.0,\"#0d0887\"],[0.1111111111111111,\"#46039f\"],[0.2222222222222222,\"#7201a8\"],[0.3333333333333333,\"#9c179e\"],[0.4444444444444444,\"#bd3786\"],[0.5555555555555556,\"#d8576b\"],[0.6666666666666666,\"#ed7953\"],[0.7777777777777778,\"#fb9f3a\"],[0.8888888888888888,\"#fdca26\"],[1.0,\"#f0f921\"]],\"sequentialminus\":[[0.0,\"#0d0887\"],[0.1111111111111111,\"#46039f\"],[0.2222222222222222,\"#7201a8\"],[0.3333333333333333,\"#9c179e\"],[0.4444444444444444,\"#bd3786\"],[0.5555555555555556,\"#d8576b\"],[0.6666666666666666,\"#ed7953\"],[0.7777777777777778,\"#fb9f3a\"],[0.8888888888888888,\"#fdca26\"],[1.0,\"#f0f921\"]],\"diverging\":[[0,\"#8e0152\"],[0.1,\"#c51b7d\"],[0.2,\"#de77ae\"],[0.3,\"#f1b6da\"],[0.4,\"#fde0ef\"],[0.5,\"#f7f7f7\"],[0.6,\"#e6f5d0\"],[0.7,\"#b8e186\"],[0.8,\"#7fbc41\"],[0.9,\"#4d9221\"],[1,\"#276419\"]]},\"xaxis\":{\"gridcolor\":\"white\",\"linecolor\":\"white\",\"ticks\":\"\",\"title\":{\"standoff\":15},\"zerolinecolor\":\"white\",\"automargin\":true,\"zerolinewidth\":2},\"yaxis\":{\"gridcolor\":\"white\",\"linecolor\":\"white\",\"ticks\":\"\",\"title\":{\"standoff\":15},\"zerolinecolor\":\"white\",\"automargin\":true,\"zerolinewidth\":2},\"scene\":{\"xaxis\":{\"backgroundcolor\":\"#E5ECF6\",\"gridcolor\":\"white\",\"linecolor\":\"white\",\"showbackground\":true,\"ticks\":\"\",\"zerolinecolor\":\"white\",\"gridwidth\":2},\"yaxis\":{\"backgroundcolor\":\"#E5ECF6\",\"gridcolor\":\"white\",\"linecolor\":\"white\",\"showbackground\":true,\"ticks\":\"\",\"zerolinecolor\":\"white\",\"gridwidth\":2},\"zaxis\":{\"backgroundcolor\":\"#E5ECF6\",\"gridcolor\":\"white\",\"linecolor\":\"white\",\"showbackground\":true,\"ticks\":\"\",\"zerolinecolor\":\"white\",\"gridwidth\":2}},\"shapedefaults\":{\"line\":{\"color\":\"#2a3f5f\"}},\"annotationdefaults\":{\"arrowcolor\":\"#2a3f5f\",\"arrowhead\":0,\"arrowwidth\":1},\"geo\":{\"bgcolor\":\"white\",\"landcolor\":\"#E5ECF6\",\"subunitcolor\":\"white\",\"showland\":true,\"showlakes\":true,\"lakecolor\":\"white\"},\"title\":{\"x\":0.05},\"mapbox\":{\"style\":\"light\"}}},\"xaxis\":{\"anchor\":\"y\",\"domain\":[0.0,1.0],\"title\":{\"text\":\"Education Level\"},\"categoryorder\":\"array\",\"categoryarray\":[\"High School\",\"Bachelor's Degree\",\"Master's Degree\",\"Ph.D.\"]},\"yaxis\":{\"anchor\":\"x\",\"domain\":[0.0,1.0],\"title\":{\"text\":\"Count\"}},\"legend\":{\"title\":{\"text\":\"Gender\"},\"tracegroupgap\":0},\"title\":{\"text\":\"Education Level Distribution by Gender\"},\"barmode\":\"relative\"},                        {\"responsive\": true}                    ).then(function(){\n",
              "                            \n",
              "var gd = document.getElementById('7d33670e-dfce-4cd8-b04e-b6ab0ba8c001');\n",
              "var x = new MutationObserver(function (mutations, observer) {{\n",
              "        var display = window.getComputedStyle(gd).display;\n",
              "        if (!display || display === 'none') {{\n",
              "            console.log([gd, 'removed!']);\n",
              "            Plotly.purge(gd);\n",
              "            observer.disconnect();\n",
              "        }}\n",
              "}});\n",
              "\n",
              "// Listen for the removal of the full notebook cells\n",
              "var notebookContainer = gd.closest('#notebook-container');\n",
              "if (notebookContainer) {{\n",
              "    x.observe(notebookContainer, {childList: true});\n",
              "}}\n",
              "\n",
              "// Listen for the clearing of the current output cell\n",
              "var outputEl = gd.closest('.output');\n",
              "if (outputEl) {{\n",
              "    x.observe(outputEl, {childList: true});\n",
              "}}\n",
              "\n",
              "                        })                };                            </script>        </div>\n",
              "</body>\n",
              "</html>"
            ]
          },
          "metadata": {}
        }
      ]
    },
    {
      "cell_type": "markdown",
      "source": [
        "Now, let’s have a look at the frequency of app usage by gender"
      ],
      "metadata": {
        "id": "HpyWjTRN1u9t"
      }
    },
    {
      "cell_type": "code",
      "source": [
        "# frequency of app usage distribution\n",
        "fig = px.bar(data, x=\"Frequency of Usage\",\n",
        "             title=\"Frequency of App Usage Distribution\")\n",
        "fig.update_layout(xaxis_title=\"Frequency of Usage\",\n",
        "                  yaxis_title=\"Count\")\n",
        "fig.show()"
      ],
      "metadata": {
        "colab": {
          "base_uri": "https://localhost:8080/",
          "height": 542
        },
        "id": "4VOvC2dL1vMx",
        "outputId": "d89b66c4-dfe6-4682-bb49-597eb55c8227"
      },
      "execution_count": 6,
      "outputs": [
        {
          "output_type": "display_data",
          "data": {
            "text/html": [
              "<html>\n",
              "<head><meta charset=\"utf-8\" /></head>\n",
              "<body>\n",
              "    <div>            <script src=\"https://cdnjs.cloudflare.com/ajax/libs/mathjax/2.7.5/MathJax.js?config=TeX-AMS-MML_SVG\"></script><script type=\"text/javascript\">if (window.MathJax && window.MathJax.Hub && window.MathJax.Hub.Config) {window.MathJax.Hub.Config({SVG: {font: \"STIX-Web\"}});}</script>                <script type=\"text/javascript\">window.PlotlyConfig = {MathJaxConfig: 'local'};</script>\n",
              "        <script charset=\"utf-8\" src=\"https://cdn.plot.ly/plotly-2.24.1.min.js\"></script>                <div id=\"c36bbdae-3ca8-4f11-98a9-6c4532b25aea\" class=\"plotly-graph-div\" style=\"height:525px; width:100%;\"></div>            <script type=\"text/javascript\">                                    window.PLOTLYENV=window.PLOTLYENV || {};                                    if (document.getElementById(\"c36bbdae-3ca8-4f11-98a9-6c4532b25aea\")) {                    Plotly.newPlot(                        \"c36bbdae-3ca8-4f11-98a9-6c4532b25aea\",                        [{\"alignmentgroup\":\"True\",\"hovertemplate\":\"Frequency of Usage=%{x}\\u003cbr\\u003ecount=%{y}\\u003cextra\\u003e\\u003c\\u002fextra\\u003e\",\"legendgroup\":\"\",\"marker\":{\"color\":\"#636efa\",\"pattern\":{\"shape\":\"\"}},\"name\":\"\",\"offsetgroup\":\"\",\"orientation\":\"v\",\"showlegend\":false,\"textposition\":\"auto\",\"x\":[\"Weekly\",\"Monthly\",\"Daily\",\"Daily\",\"Monthly\",\"Monthly\",\"Monthly\",\"Daily\",\"Monthly\",\"Weekly\",\"Weekly\",\"Monthly\",\"Weekly\",\"Monthly\",\"Monthly\",\"Monthly\",\"Weekly\",\"Daily\",\"Daily\",\"Daily\",\"Weekly\",\"Weekly\",\"Daily\",\"Daily\",\"Monthly\",\"Monthly\",\"Monthly\",\"Daily\",\"Weekly\",\"Monthly\",\"Weekly\",\"Weekly\",\"Monthly\",\"Weekly\",\"Weekly\",\"Daily\",\"Monthly\",\"Weekly\",\"Weekly\",\"Daily\",\"Monthly\",\"Monthly\",\"Weekly\",\"Daily\",\"Weekly\",\"Daily\",\"Daily\",\"Weekly\",\"Daily\",\"Weekly\",\"Monthly\",\"Monthly\",\"Monthly\",\"Monthly\",\"Daily\",\"Daily\",\"Daily\",\"Daily\",\"Monthly\",\"Monthly\",\"Weekly\",\"Daily\",\"Weekly\",\"Monthly\",\"Monthly\",\"Daily\",\"Daily\",\"Weekly\",\"Monthly\",\"Daily\",\"Weekly\",\"Weekly\",\"Weekly\",\"Daily\",\"Daily\",\"Weekly\",\"Weekly\",\"Daily\",\"Daily\",\"Monthly\",\"Weekly\",\"Monthly\",\"Weekly\",\"Daily\",\"Monthly\",\"Monthly\",\"Weekly\",\"Daily\",\"Weekly\",\"Weekly\",\"Weekly\",\"Weekly\",\"Daily\",\"Weekly\",\"Daily\",\"Weekly\",\"Daily\",\"Daily\",\"Monthly\",\"Weekly\",\"Monthly\",\"Daily\",\"Monthly\",\"Daily\",\"Daily\",\"Monthly\",\"Monthly\",\"Monthly\",\"Daily\",\"Weekly\",\"Daily\",\"Monthly\",\"Daily\",\"Weekly\",\"Weekly\",\"Daily\",\"Monthly\",\"Weekly\",\"Weekly\",\"Daily\",\"Daily\",\"Monthly\",\"Daily\",\"Daily\",\"Daily\",\"Monthly\",\"Weekly\",\"Monthly\",\"Weekly\",\"Daily\",\"Weekly\",\"Daily\",\"Monthly\",\"Monthly\",\"Monthly\",\"Daily\",\"Weekly\",\"Weekly\",\"Weekly\",\"Monthly\",\"Daily\",\"Daily\",\"Weekly\",\"Daily\",\"Monthly\",\"Daily\",\"Daily\",\"Weekly\",\"Daily\",\"Weekly\",\"Weekly\",\"Weekly\",\"Monthly\",\"Daily\",\"Weekly\",\"Daily\",\"Daily\",\"Monthly\",\"Daily\",\"Daily\",\"Monthly\",\"Daily\",\"Monthly\",\"Daily\",\"Monthly\",\"Weekly\",\"Daily\",\"Daily\",\"Daily\",\"Daily\",\"Daily\",\"Weekly\",\"Monthly\",\"Daily\",\"Monthly\",\"Daily\",\"Weekly\",\"Weekly\",\"Daily\",\"Weekly\",\"Monthly\",\"Daily\",\"Daily\",\"Monthly\",\"Daily\",\"Monthly\",\"Daily\",\"Monthly\",\"Daily\",\"Monthly\",\"Weekly\",\"Monthly\",\"Daily\",\"Weekly\",\"Weekly\",\"Monthly\",\"Daily\",\"Monthly\",\"Daily\",\"Monthly\",\"Weekly\",\"Daily\",\"Weekly\",\"Daily\",\"Daily\",\"Weekly\",\"Daily\",\"Weekly\",\"Monthly\",\"Monthly\",\"Monthly\",\"Monthly\",\"Weekly\",\"Monthly\",\"Weekly\",\"Weekly\",\"Weekly\",\"Weekly\",\"Monthly\",\"Daily\",\"Monthly\",\"Monthly\",\"Weekly\",\"Daily\",\"Weekly\",\"Weekly\",\"Monthly\",\"Weekly\",\"Weekly\",\"Daily\",\"Weekly\",\"Weekly\",\"Weekly\",\"Weekly\",\"Monthly\",\"Weekly\",\"Weekly\",\"Monthly\",\"Daily\",\"Weekly\",\"Daily\",\"Weekly\",\"Daily\",\"Monthly\",\"Monthly\",\"Daily\",\"Daily\",\"Monthly\",\"Daily\",\"Weekly\",\"Daily\",\"Daily\",\"Daily\",\"Daily\",\"Monthly\",\"Weekly\",\"Monthly\",\"Monthly\",\"Weekly\",\"Daily\",\"Weekly\",\"Weekly\",\"Daily\",\"Monthly\",\"Weekly\",\"Daily\",\"Daily\",\"Weekly\",\"Weekly\",\"Monthly\",\"Weekly\",\"Daily\",\"Weekly\",\"Weekly\",\"Weekly\",\"Monthly\",\"Daily\",\"Daily\",\"Weekly\",\"Monthly\",\"Weekly\",\"Weekly\",\"Weekly\",\"Weekly\",\"Monthly\",\"Daily\",\"Daily\",\"Daily\",\"Weekly\",\"Weekly\",\"Weekly\",\"Daily\",\"Daily\",\"Daily\",\"Weekly\",\"Daily\",\"Daily\",\"Weekly\",\"Daily\",\"Daily\",\"Daily\",\"Daily\",\"Weekly\",\"Weekly\",\"Daily\",\"Daily\",\"Daily\",\"Monthly\",\"Weekly\",\"Weekly\",\"Daily\",\"Monthly\",\"Monthly\",\"Weekly\",\"Weekly\",\"Monthly\",\"Monthly\",\"Weekly\",\"Monthly\",\"Weekly\",\"Monthly\",\"Monthly\",\"Weekly\",\"Daily\",\"Weekly\",\"Monthly\",\"Monthly\",\"Daily\",\"Monthly\",\"Monthly\",\"Daily\",\"Weekly\",\"Daily\",\"Weekly\",\"Weekly\",\"Daily\",\"Daily\",\"Monthly\",\"Daily\",\"Daily\",\"Weekly\",\"Monthly\",\"Daily\",\"Weekly\",\"Daily\",\"Daily\",\"Daily\",\"Monthly\",\"Daily\",\"Monthly\",\"Monthly\",\"Weekly\",\"Daily\",\"Monthly\",\"Monthly\",\"Daily\",\"Daily\",\"Weekly\",\"Weekly\",\"Monthly\",\"Weekly\",\"Daily\",\"Daily\",\"Monthly\",\"Weekly\",\"Monthly\",\"Daily\",\"Monthly\",\"Daily\",\"Monthly\",\"Daily\",\"Monthly\",\"Monthly\",\"Monthly\",\"Monthly\",\"Monthly\",\"Weekly\",\"Daily\",\"Weekly\",\"Daily\",\"Weekly\",\"Monthly\",\"Monthly\",\"Daily\",\"Weekly\",\"Monthly\",\"Weekly\",\"Monthly\",\"Weekly\",\"Weekly\",\"Daily\",\"Monthly\",\"Daily\",\"Weekly\",\"Monthly\",\"Daily\",\"Weekly\",\"Daily\",\"Weekly\",\"Weekly\",\"Daily\",\"Weekly\",\"Weekly\",\"Daily\",\"Monthly\",\"Daily\",\"Monthly\",\"Daily\",\"Weekly\",\"Weekly\",\"Daily\",\"Daily\",\"Weekly\",\"Daily\",\"Weekly\",\"Daily\",\"Monthly\",\"Weekly\",\"Weekly\",\"Monthly\",\"Monthly\",\"Weekly\",\"Daily\",\"Monthly\",\"Weekly\",\"Weekly\",\"Weekly\",\"Daily\",\"Weekly\",\"Daily\",\"Weekly\",\"Monthly\",\"Monthly\",\"Weekly\",\"Daily\",\"Daily\",\"Daily\",\"Monthly\",\"Monthly\",\"Weekly\",\"Daily\",\"Daily\",\"Monthly\",\"Monthly\",\"Daily\",\"Monthly\",\"Daily\",\"Daily\",\"Daily\",\"Daily\",\"Weekly\",\"Weekly\",\"Monthly\",\"Daily\",\"Monthly\",\"Monthly\",\"Daily\",\"Daily\",\"Weekly\",\"Monthly\",\"Daily\",\"Daily\",\"Monthly\",\"Monthly\",\"Weekly\",\"Weekly\",\"Monthly\",\"Monthly\",\"Monthly\",\"Weekly\",\"Monthly\",\"Daily\",\"Weekly\",\"Weekly\",\"Weekly\",\"Weekly\",\"Weekly\",\"Weekly\",\"Monthly\",\"Monthly\",\"Daily\",\"Monthly\",\"Daily\",\"Daily\",\"Monthly\",\"Monthly\",\"Weekly\",\"Weekly\",\"Weekly\",\"Weekly\",\"Daily\",\"Monthly\",\"Daily\",\"Daily\",\"Daily\",\"Daily\",\"Daily\",\"Daily\",\"Monthly\",\"Monthly\"],\"xaxis\":\"x\",\"y\":[1,1,1,1,1,1,1,1,1,1,1,1,1,1,1,1,1,1,1,1,1,1,1,1,1,1,1,1,1,1,1,1,1,1,1,1,1,1,1,1,1,1,1,1,1,1,1,1,1,1,1,1,1,1,1,1,1,1,1,1,1,1,1,1,1,1,1,1,1,1,1,1,1,1,1,1,1,1,1,1,1,1,1,1,1,1,1,1,1,1,1,1,1,1,1,1,1,1,1,1,1,1,1,1,1,1,1,1,1,1,1,1,1,1,1,1,1,1,1,1,1,1,1,1,1,1,1,1,1,1,1,1,1,1,1,1,1,1,1,1,1,1,1,1,1,1,1,1,1,1,1,1,1,1,1,1,1,1,1,1,1,1,1,1,1,1,1,1,1,1,1,1,1,1,1,1,1,1,1,1,1,1,1,1,1,1,1,1,1,1,1,1,1,1,1,1,1,1,1,1,1,1,1,1,1,1,1,1,1,1,1,1,1,1,1,1,1,1,1,1,1,1,1,1,1,1,1,1,1,1,1,1,1,1,1,1,1,1,1,1,1,1,1,1,1,1,1,1,1,1,1,1,1,1,1,1,1,1,1,1,1,1,1,1,1,1,1,1,1,1,1,1,1,1,1,1,1,1,1,1,1,1,1,1,1,1,1,1,1,1,1,1,1,1,1,1,1,1,1,1,1,1,1,1,1,1,1,1,1,1,1,1,1,1,1,1,1,1,1,1,1,1,1,1,1,1,1,1,1,1,1,1,1,1,1,1,1,1,1,1,1,1,1,1,1,1,1,1,1,1,1,1,1,1,1,1,1,1,1,1,1,1,1,1,1,1,1,1,1,1,1,1,1,1,1,1,1,1,1,1,1,1,1,1,1,1,1,1,1,1,1,1,1,1,1,1,1,1,1,1,1,1,1,1,1,1,1,1,1,1,1,1,1,1,1,1,1,1,1,1,1,1,1,1,1,1,1,1,1,1,1,1,1,1,1,1,1,1,1,1,1,1,1,1,1,1,1,1,1,1,1,1,1,1,1,1,1,1,1,1,1,1,1,1,1,1,1,1,1,1,1,1,1,1,1,1,1,1,1,1,1,1,1,1,1,1,1,1,1,1,1,1,1,1,1,1,1,1,1,1],\"yaxis\":\"y\",\"type\":\"bar\"}],                        {\"template\":{\"data\":{\"histogram2dcontour\":[{\"type\":\"histogram2dcontour\",\"colorbar\":{\"outlinewidth\":0,\"ticks\":\"\"},\"colorscale\":[[0.0,\"#0d0887\"],[0.1111111111111111,\"#46039f\"],[0.2222222222222222,\"#7201a8\"],[0.3333333333333333,\"#9c179e\"],[0.4444444444444444,\"#bd3786\"],[0.5555555555555556,\"#d8576b\"],[0.6666666666666666,\"#ed7953\"],[0.7777777777777778,\"#fb9f3a\"],[0.8888888888888888,\"#fdca26\"],[1.0,\"#f0f921\"]]}],\"choropleth\":[{\"type\":\"choropleth\",\"colorbar\":{\"outlinewidth\":0,\"ticks\":\"\"}}],\"histogram2d\":[{\"type\":\"histogram2d\",\"colorbar\":{\"outlinewidth\":0,\"ticks\":\"\"},\"colorscale\":[[0.0,\"#0d0887\"],[0.1111111111111111,\"#46039f\"],[0.2222222222222222,\"#7201a8\"],[0.3333333333333333,\"#9c179e\"],[0.4444444444444444,\"#bd3786\"],[0.5555555555555556,\"#d8576b\"],[0.6666666666666666,\"#ed7953\"],[0.7777777777777778,\"#fb9f3a\"],[0.8888888888888888,\"#fdca26\"],[1.0,\"#f0f921\"]]}],\"heatmap\":[{\"type\":\"heatmap\",\"colorbar\":{\"outlinewidth\":0,\"ticks\":\"\"},\"colorscale\":[[0.0,\"#0d0887\"],[0.1111111111111111,\"#46039f\"],[0.2222222222222222,\"#7201a8\"],[0.3333333333333333,\"#9c179e\"],[0.4444444444444444,\"#bd3786\"],[0.5555555555555556,\"#d8576b\"],[0.6666666666666666,\"#ed7953\"],[0.7777777777777778,\"#fb9f3a\"],[0.8888888888888888,\"#fdca26\"],[1.0,\"#f0f921\"]]}],\"heatmapgl\":[{\"type\":\"heatmapgl\",\"colorbar\":{\"outlinewidth\":0,\"ticks\":\"\"},\"colorscale\":[[0.0,\"#0d0887\"],[0.1111111111111111,\"#46039f\"],[0.2222222222222222,\"#7201a8\"],[0.3333333333333333,\"#9c179e\"],[0.4444444444444444,\"#bd3786\"],[0.5555555555555556,\"#d8576b\"],[0.6666666666666666,\"#ed7953\"],[0.7777777777777778,\"#fb9f3a\"],[0.8888888888888888,\"#fdca26\"],[1.0,\"#f0f921\"]]}],\"contourcarpet\":[{\"type\":\"contourcarpet\",\"colorbar\":{\"outlinewidth\":0,\"ticks\":\"\"}}],\"contour\":[{\"type\":\"contour\",\"colorbar\":{\"outlinewidth\":0,\"ticks\":\"\"},\"colorscale\":[[0.0,\"#0d0887\"],[0.1111111111111111,\"#46039f\"],[0.2222222222222222,\"#7201a8\"],[0.3333333333333333,\"#9c179e\"],[0.4444444444444444,\"#bd3786\"],[0.5555555555555556,\"#d8576b\"],[0.6666666666666666,\"#ed7953\"],[0.7777777777777778,\"#fb9f3a\"],[0.8888888888888888,\"#fdca26\"],[1.0,\"#f0f921\"]]}],\"surface\":[{\"type\":\"surface\",\"colorbar\":{\"outlinewidth\":0,\"ticks\":\"\"},\"colorscale\":[[0.0,\"#0d0887\"],[0.1111111111111111,\"#46039f\"],[0.2222222222222222,\"#7201a8\"],[0.3333333333333333,\"#9c179e\"],[0.4444444444444444,\"#bd3786\"],[0.5555555555555556,\"#d8576b\"],[0.6666666666666666,\"#ed7953\"],[0.7777777777777778,\"#fb9f3a\"],[0.8888888888888888,\"#fdca26\"],[1.0,\"#f0f921\"]]}],\"mesh3d\":[{\"type\":\"mesh3d\",\"colorbar\":{\"outlinewidth\":0,\"ticks\":\"\"}}],\"scatter\":[{\"fillpattern\":{\"fillmode\":\"overlay\",\"size\":10,\"solidity\":0.2},\"type\":\"scatter\"}],\"parcoords\":[{\"type\":\"parcoords\",\"line\":{\"colorbar\":{\"outlinewidth\":0,\"ticks\":\"\"}}}],\"scatterpolargl\":[{\"type\":\"scatterpolargl\",\"marker\":{\"colorbar\":{\"outlinewidth\":0,\"ticks\":\"\"}}}],\"bar\":[{\"error_x\":{\"color\":\"#2a3f5f\"},\"error_y\":{\"color\":\"#2a3f5f\"},\"marker\":{\"line\":{\"color\":\"#E5ECF6\",\"width\":0.5},\"pattern\":{\"fillmode\":\"overlay\",\"size\":10,\"solidity\":0.2}},\"type\":\"bar\"}],\"scattergeo\":[{\"type\":\"scattergeo\",\"marker\":{\"colorbar\":{\"outlinewidth\":0,\"ticks\":\"\"}}}],\"scatterpolar\":[{\"type\":\"scatterpolar\",\"marker\":{\"colorbar\":{\"outlinewidth\":0,\"ticks\":\"\"}}}],\"histogram\":[{\"marker\":{\"pattern\":{\"fillmode\":\"overlay\",\"size\":10,\"solidity\":0.2}},\"type\":\"histogram\"}],\"scattergl\":[{\"type\":\"scattergl\",\"marker\":{\"colorbar\":{\"outlinewidth\":0,\"ticks\":\"\"}}}],\"scatter3d\":[{\"type\":\"scatter3d\",\"line\":{\"colorbar\":{\"outlinewidth\":0,\"ticks\":\"\"}},\"marker\":{\"colorbar\":{\"outlinewidth\":0,\"ticks\":\"\"}}}],\"scattermapbox\":[{\"type\":\"scattermapbox\",\"marker\":{\"colorbar\":{\"outlinewidth\":0,\"ticks\":\"\"}}}],\"scatterternary\":[{\"type\":\"scatterternary\",\"marker\":{\"colorbar\":{\"outlinewidth\":0,\"ticks\":\"\"}}}],\"scattercarpet\":[{\"type\":\"scattercarpet\",\"marker\":{\"colorbar\":{\"outlinewidth\":0,\"ticks\":\"\"}}}],\"carpet\":[{\"aaxis\":{\"endlinecolor\":\"#2a3f5f\",\"gridcolor\":\"white\",\"linecolor\":\"white\",\"minorgridcolor\":\"white\",\"startlinecolor\":\"#2a3f5f\"},\"baxis\":{\"endlinecolor\":\"#2a3f5f\",\"gridcolor\":\"white\",\"linecolor\":\"white\",\"minorgridcolor\":\"white\",\"startlinecolor\":\"#2a3f5f\"},\"type\":\"carpet\"}],\"table\":[{\"cells\":{\"fill\":{\"color\":\"#EBF0F8\"},\"line\":{\"color\":\"white\"}},\"header\":{\"fill\":{\"color\":\"#C8D4E3\"},\"line\":{\"color\":\"white\"}},\"type\":\"table\"}],\"barpolar\":[{\"marker\":{\"line\":{\"color\":\"#E5ECF6\",\"width\":0.5},\"pattern\":{\"fillmode\":\"overlay\",\"size\":10,\"solidity\":0.2}},\"type\":\"barpolar\"}],\"pie\":[{\"automargin\":true,\"type\":\"pie\"}]},\"layout\":{\"autotypenumbers\":\"strict\",\"colorway\":[\"#636efa\",\"#EF553B\",\"#00cc96\",\"#ab63fa\",\"#FFA15A\",\"#19d3f3\",\"#FF6692\",\"#B6E880\",\"#FF97FF\",\"#FECB52\"],\"font\":{\"color\":\"#2a3f5f\"},\"hovermode\":\"closest\",\"hoverlabel\":{\"align\":\"left\"},\"paper_bgcolor\":\"white\",\"plot_bgcolor\":\"#E5ECF6\",\"polar\":{\"bgcolor\":\"#E5ECF6\",\"angularaxis\":{\"gridcolor\":\"white\",\"linecolor\":\"white\",\"ticks\":\"\"},\"radialaxis\":{\"gridcolor\":\"white\",\"linecolor\":\"white\",\"ticks\":\"\"}},\"ternary\":{\"bgcolor\":\"#E5ECF6\",\"aaxis\":{\"gridcolor\":\"white\",\"linecolor\":\"white\",\"ticks\":\"\"},\"baxis\":{\"gridcolor\":\"white\",\"linecolor\":\"white\",\"ticks\":\"\"},\"caxis\":{\"gridcolor\":\"white\",\"linecolor\":\"white\",\"ticks\":\"\"}},\"coloraxis\":{\"colorbar\":{\"outlinewidth\":0,\"ticks\":\"\"}},\"colorscale\":{\"sequential\":[[0.0,\"#0d0887\"],[0.1111111111111111,\"#46039f\"],[0.2222222222222222,\"#7201a8\"],[0.3333333333333333,\"#9c179e\"],[0.4444444444444444,\"#bd3786\"],[0.5555555555555556,\"#d8576b\"],[0.6666666666666666,\"#ed7953\"],[0.7777777777777778,\"#fb9f3a\"],[0.8888888888888888,\"#fdca26\"],[1.0,\"#f0f921\"]],\"sequentialminus\":[[0.0,\"#0d0887\"],[0.1111111111111111,\"#46039f\"],[0.2222222222222222,\"#7201a8\"],[0.3333333333333333,\"#9c179e\"],[0.4444444444444444,\"#bd3786\"],[0.5555555555555556,\"#d8576b\"],[0.6666666666666666,\"#ed7953\"],[0.7777777777777778,\"#fb9f3a\"],[0.8888888888888888,\"#fdca26\"],[1.0,\"#f0f921\"]],\"diverging\":[[0,\"#8e0152\"],[0.1,\"#c51b7d\"],[0.2,\"#de77ae\"],[0.3,\"#f1b6da\"],[0.4,\"#fde0ef\"],[0.5,\"#f7f7f7\"],[0.6,\"#e6f5d0\"],[0.7,\"#b8e186\"],[0.8,\"#7fbc41\"],[0.9,\"#4d9221\"],[1,\"#276419\"]]},\"xaxis\":{\"gridcolor\":\"white\",\"linecolor\":\"white\",\"ticks\":\"\",\"title\":{\"standoff\":15},\"zerolinecolor\":\"white\",\"automargin\":true,\"zerolinewidth\":2},\"yaxis\":{\"gridcolor\":\"white\",\"linecolor\":\"white\",\"ticks\":\"\",\"title\":{\"standoff\":15},\"zerolinecolor\":\"white\",\"automargin\":true,\"zerolinewidth\":2},\"scene\":{\"xaxis\":{\"backgroundcolor\":\"#E5ECF6\",\"gridcolor\":\"white\",\"linecolor\":\"white\",\"showbackground\":true,\"ticks\":\"\",\"zerolinecolor\":\"white\",\"gridwidth\":2},\"yaxis\":{\"backgroundcolor\":\"#E5ECF6\",\"gridcolor\":\"white\",\"linecolor\":\"white\",\"showbackground\":true,\"ticks\":\"\",\"zerolinecolor\":\"white\",\"gridwidth\":2},\"zaxis\":{\"backgroundcolor\":\"#E5ECF6\",\"gridcolor\":\"white\",\"linecolor\":\"white\",\"showbackground\":true,\"ticks\":\"\",\"zerolinecolor\":\"white\",\"gridwidth\":2}},\"shapedefaults\":{\"line\":{\"color\":\"#2a3f5f\"}},\"annotationdefaults\":{\"arrowcolor\":\"#2a3f5f\",\"arrowhead\":0,\"arrowwidth\":1},\"geo\":{\"bgcolor\":\"white\",\"landcolor\":\"#E5ECF6\",\"subunitcolor\":\"white\",\"showland\":true,\"showlakes\":true,\"lakecolor\":\"white\"},\"title\":{\"x\":0.05},\"mapbox\":{\"style\":\"light\"}}},\"xaxis\":{\"anchor\":\"y\",\"domain\":[0.0,1.0],\"title\":{\"text\":\"Frequency of Usage\"}},\"yaxis\":{\"anchor\":\"x\",\"domain\":[0.0,1.0],\"title\":{\"text\":\"Count\"}},\"legend\":{\"tracegroupgap\":0},\"title\":{\"text\":\"Frequency of App Usage Distribution\"},\"barmode\":\"relative\"},                        {\"responsive\": true}                    ).then(function(){\n",
              "                            \n",
              "var gd = document.getElementById('c36bbdae-3ca8-4f11-98a9-6c4532b25aea');\n",
              "var x = new MutationObserver(function (mutations, observer) {{\n",
              "        var display = window.getComputedStyle(gd).display;\n",
              "        if (!display || display === 'none') {{\n",
              "            console.log([gd, 'removed!']);\n",
              "            Plotly.purge(gd);\n",
              "            observer.disconnect();\n",
              "        }}\n",
              "}});\n",
              "\n",
              "// Listen for the removal of the full notebook cells\n",
              "var notebookContainer = gd.closest('#notebook-container');\n",
              "if (notebookContainer) {{\n",
              "    x.observe(notebookContainer, {childList: true});\n",
              "}}\n",
              "\n",
              "// Listen for the clearing of the current output cell\n",
              "var outputEl = gd.closest('.output');\n",
              "if (outputEl) {{\n",
              "    x.observe(outputEl, {childList: true});\n",
              "}}\n",
              "\n",
              "                        })                };                            </script>        </div>\n",
              "</body>\n",
              "</html>"
            ]
          },
          "metadata": {}
        }
      ]
    },
    {
      "cell_type": "markdown",
      "source": [
        "Now, I’ll separate data into male and female profiles:"
      ],
      "metadata": {
        "id": "VTd_4UVk1vbW"
      }
    },
    {
      "cell_type": "code",
      "source": [
        "# Separate data into male and female\n",
        "male_profiles = data[data['Gender'] == 'Male']\n",
        "female_profiles = data[data['Gender'] == 'Female']"
      ],
      "metadata": {
        "id": "Ldv-Tg1B1vqY"
      },
      "execution_count": 7,
      "outputs": []
    },
    {
      "cell_type": "markdown",
      "source": [
        "Now, let’s calculate the match score for dating recommendations:"
      ],
      "metadata": {
        "id": "qC8OglAv1v4J"
      }
    },
    {
      "cell_type": "code",
      "source": [
        "def calculate_match_score(profile1, profile2):\n",
        "    # Shared interests score (1 point per shared interest)\n",
        "    interests1 = set(eval(profile1['Interests']))\n",
        "    interests2 = set(eval(profile2['Interests']))\n",
        "    shared_interests_score = len(interests1.intersection(interests2))\n",
        "\n",
        "    # Age difference score (higher age difference, lower score)\n",
        "    age_difference_score = max(0, 10 - abs(profile1['Age'] - profile2['Age']))\n",
        "\n",
        "    # Swiping history score (higher swiping history, higher score)\n",
        "    swiping_history_score = min(profile1['Swiping History'], profile2['Swiping History']) / 100\n",
        "\n",
        "    # Relationship type score (1 point for matching types)\n",
        "    relationship_type_score = 0\n",
        "    if profile1['Looking For'] == profile2['Looking For']:\n",
        "        relationship_type_score = 1\n",
        "    # Total match score\n",
        "    total_score = (\n",
        "        shared_interests_score + age_difference_score + swiping_history_score + relationship_type_score\n",
        "    )\n",
        "\n",
        "    return total_score\n",
        "\n",
        "# Example: Calculate match score between two profiles\n",
        "profile1 = male_profiles.iloc[0]\n",
        "profile2 = female_profiles.iloc[0]\n",
        "match_score = calculate_match_score(profile1, profile2)\n",
        "print(f\"Match score between User {profile1['User ID']} and User {profile2['User ID']} : {match_score}\")"
      ],
      "metadata": {
        "colab": {
          "base_uri": "https://localhost:8080/"
        },
        "id": "FGGVnmfr1wGT",
        "outputId": "7297ebf5-db26-4430-d1b0-66d702bd5108"
      },
      "execution_count": 8,
      "outputs": [
        {
          "output_type": "stream",
          "name": "stdout",
          "text": [
            "Match score between User 1 and User 2 : 9.96\n"
          ]
        }
      ]
    },
    {
      "cell_type": "markdown",
      "source": [
        "In the above code, we defined a function called calculate_match_score that calculates a compatibility score between two user profiles on a dating app. The goal is to quantify how well two users might match based on various factors. Let’s go through the steps we covered in the above code to calculate the match score:\n",
        "\n",
        "1. We started by considering the interests or hobbies of both users listed in their profiles. Each shared interest contributes 1 point to the compatibility score. The more shared interests they have, the higher their compatibility score will be. For example, if both users enjoy travelling, that’s a shared interest and adds a point to their score.\n",
        "\n",
        "2. Age can play a significant role in compatibility. We calculated a score based on the age difference between the two users. If the age difference is small (within ten years), they receive a higher score. However, if the age difference is large, the score starts decreasing. It ensures that users with similar ages are more likely to have a higher match score.\n",
        "\n",
        "3. User engagement with the app, as measured by their swiping history (e.g., the number of likes or dislikes they’ve given), is considered. A higher swiping history indicates more active use of the app to find a partner and contributes to a higher score. It encourages matchmaking with users who are actively engaged in the dating process.\n",
        "\n",
        "4. The type of relationship each user is looking for (e.g., long-term relationship, marriage) is also used to calculate the match score. If both users are seeking the same type of relationship, they receive a point. This score reflects the compatibility of their relationship goals.\n",
        "\n",
        "5. The final compatibility score is calculated by summing up the individual scores from the previous steps. A higher total score suggests a better potential match, while a lower score indicates a less compatible match.\n",
        "\n",
        "\n",
        "Now, here’s how to generate dating recommendations by utilizing the match score we calculated above:"
      ],
      "metadata": {
        "id": "zbLAU4eE2Thr"
      }
    },
    {
      "cell_type": "code",
      "source": [
        "def recommend_profiles(male_profiles, female_profiles):\n",
        "    recommendations = []\n",
        "\n",
        "    for _, male_profile in male_profiles.iterrows():\n",
        "        best_match = None\n",
        "        best_score = -1\n",
        "\n",
        "        for _, female_profile in female_profiles.iterrows():\n",
        "            score = calculate_match_score(male_profile, female_profile)\n",
        "\n",
        "            if score > best_score:\n",
        "                best_match = female_profile\n",
        "                best_score = score\n",
        "\n",
        "        recommendations.append((male_profile, best_match, best_score))\n",
        "\n",
        "    return recommendations\n",
        "\n",
        "\n",
        "# Generate recommendations\n",
        "recommendations = recommend_profiles(male_profiles, female_profiles)\n",
        "\n",
        "# Sort recommendations by match score in descending order\n",
        "recommendations.sort(key=lambda x: x[2], reverse=True)\n",
        "\n",
        "# Display the top recommendations\n",
        "for idx, (male_profile, female_profile, match_score) in enumerate(recommendations[:10]):\n",
        "    print(f\"Recommendation {idx + 1}:\")\n",
        "    print(f\"Male Profile (User {male_profile['User ID']}): Age {male_profile['Age']}, Interests {male_profile['Interests']}\")\n",
        "    print(f\"Female Profile (User {female_profile['User ID']}): Age {female_profile['Age']}, Interests {female_profile['Interests']}\")\n",
        "    print(f\"Match Score: {match_score}\")\n",
        "    print()\n"
      ],
      "metadata": {
        "colab": {
          "base_uri": "https://localhost:8080/"
        },
        "id": "Ahyqx9LN1w05",
        "outputId": "d9c1a354-4d1f-48c9-bf1f-02c3842d6fc0"
      },
      "execution_count": 9,
      "outputs": [
        {
          "output_type": "stream",
          "name": "stdout",
          "text": [
            "Recommendation 1:\n",
            "Male Profile (User 36): Age 19, Interests ['Movies', 'Cooking', 'Hiking', 'Reading', 'Sports', 'Travel', 'Music']\n",
            "Female Profile (User 451): Age 19, Interests ['Reading', 'Music', 'Cooking', 'Hiking', 'Travel', 'Sports', 'Movies']\n",
            "Match Score: 18.79\n",
            "\n",
            "Recommendation 2:\n",
            "Male Profile (User 274): Age 29, Interests ['Reading', 'Movies', 'Travel', 'Music', 'Hiking', 'Cooking', 'Sports']\n",
            "Female Profile (User 300): Age 29, Interests ['Cooking', 'Reading', 'Music', 'Hiking', 'Travel', 'Sports', 'Movies']\n",
            "Match Score: 18.73\n",
            "\n",
            "Recommendation 3:\n",
            "Male Profile (User 456): Age 29, Interests ['Cooking', 'Hiking', 'Sports', 'Travel', 'Music', 'Movies', 'Reading']\n",
            "Female Profile (User 65): Age 29, Interests ['Travel', 'Movies', 'Reading', 'Sports', 'Music', 'Cooking', 'Hiking']\n",
            "Match Score: 18.69\n",
            "\n",
            "Recommendation 4:\n",
            "Male Profile (User 147): Age 34, Interests ['Reading', 'Travel', 'Movies', 'Hiking', 'Cooking', 'Music', 'Sports']\n",
            "Female Profile (User 287): Age 34, Interests ['Reading', 'Hiking', 'Cooking', 'Music', 'Movies', 'Travel', 'Sports']\n",
            "Match Score: 18.66\n",
            "\n",
            "Recommendation 5:\n",
            "Male Profile (User 321): Age 20, Interests ['Sports', 'Reading', 'Cooking', 'Travel', 'Movies', 'Hiking', 'Music']\n",
            "Female Profile (User 168): Age 20, Interests ['Cooking', 'Sports', 'Music', 'Reading', 'Travel', 'Hiking', 'Movies']\n",
            "Match Score: 18.58\n",
            "\n",
            "Recommendation 6:\n",
            "Male Profile (User 323): Age 30, Interests ['Hiking', 'Travel', 'Movies', 'Reading', 'Sports', 'Cooking', 'Music']\n",
            "Female Profile (User 497): Age 30, Interests ['Hiking', 'Reading', 'Travel', 'Sports', 'Music', 'Cooking', 'Movies']\n",
            "Match Score: 18.57\n",
            "\n",
            "Recommendation 7:\n",
            "Male Profile (User 181): Age 25, Interests ['Sports', 'Music', 'Hiking', 'Travel', 'Cooking', 'Movies', 'Reading']\n",
            "Female Profile (User 175): Age 25, Interests ['Sports', 'Music', 'Travel', 'Hiking', 'Movies', 'Reading', 'Cooking']\n",
            "Match Score: 18.34\n",
            "\n",
            "Recommendation 8:\n",
            "Male Profile (User 489): Age 33, Interests ['Travel', 'Hiking', 'Reading', 'Sports', 'Music', 'Movies', 'Cooking']\n",
            "Female Profile (User 99): Age 33, Interests ['Reading', 'Cooking', 'Sports', 'Hiking', 'Movies', 'Music', 'Travel']\n",
            "Match Score: 18.3\n",
            "\n",
            "Recommendation 9:\n",
            "Male Profile (User 280): Age 29, Interests ['Travel', 'Hiking', 'Music', 'Sports', 'Reading', 'Cooking', 'Movies']\n",
            "Female Profile (User 300): Age 29, Interests ['Cooking', 'Reading', 'Music', 'Hiking', 'Travel', 'Sports', 'Movies']\n",
            "Match Score: 18.29\n",
            "\n",
            "Recommendation 10:\n",
            "Male Profile (User 92): Age 22, Interests ['Music', 'Hiking', 'Cooking', 'Travel', 'Movies', 'Reading', 'Sports']\n",
            "Female Profile (User 205): Age 22, Interests ['Hiking', 'Movies', 'Reading', 'Travel', 'Sports', 'Cooking', 'Music']\n",
            "Match Score: 18.2\n",
            "\n"
          ]
        }
      ]
    },
    {
      "cell_type": "markdown",
      "source": [
        "In the above code, we are creating a recommendation system that suggests potential matches between male and female user profiles. The recommendation system evaluates the compatibility of these profiles based on various factors, including shared interests, age, and other attributes we used to calculate the match score. Let’s go through the steps covered in this code section one by one:"
      ],
      "metadata": {
        "id": "2YvMf_lc1xAC"
      }
    },
    {
      "cell_type": "markdown",
      "source": [
        "1. The function defined above is responsible for generating recommendations. It takes two sets of user profiles as input, one for males and one for females, and returns a list of recommended matches.\n",
        "\n",
        "2. It iterates through each male user profile one by one. For each male profile, it searches through the female profiles to find the best potential match. It initially sets best_match to None and best_score to a negative value to ensure that the first female profile encountered becomes the initial best match.\n",
        "\n",
        "3. As the code iterates through female profiles, it calculates the match score for each male-female profile pair and compares it to the previous best score. If the new score is higher, it updates the best_match and best_score with the current female profile and score.\n",
        "\n",
        "4. Once the best match is found for a male profile, it is stored as a recommendation in the recommendations list, along with the male and female profiles involved in the match and the match score.\n",
        "\n",
        "5. After generating recommendations for all male profiles, the code sorts the recommendations based on the match score in descending order. It ensures that the highest-scoring recommendations appear at the top.\n",
        "\n",
        "6. Finally, it prints out the top recommendations, including information about the male and female profiles and their match scores."
      ],
      "metadata": {
        "id": "tzCX4Z3v29Y4"
      }
    },
    {
      "cell_type": "markdown",
      "source": [
        "So, This is how we can generate dating recommendations for matchmaking of profiles on a dating app using Python."
      ],
      "metadata": {
        "id": "4-E80lyV3L2p"
      }
    }
  ]
}